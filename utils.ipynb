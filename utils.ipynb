{
 "cells": [
  {
   "cell_type": "markdown",
   "metadata": {},
   "source": [
    "clean text"
   ]
  },
  {
   "cell_type": "code",
   "execution_count": 1,
   "metadata": {},
   "outputs": [],
   "source": [
    "# 文件路径\n",
    "file_path = 'input/Software Engineering at Google.txt'\n",
    "\n",
    "# 打开文件，读取内容\n",
    "with open(file_path, 'r', encoding='utf-8') as file:\n",
    "    content = file.read()\n",
    "\n",
    "# 替换字符\n",
    "content = content.replace('', '')\n",
    "\n",
    "# 写回修改后的内容\n",
    "with open(file_path, 'w', encoding='utf-8') as file:\n",
    "    file.write(content)\n"
   ]
  },
  {
   "cell_type": "markdown",
   "metadata": {},
   "source": [
    "count token"
   ]
  },
  {
   "cell_type": "code",
   "execution_count": 1,
   "metadata": {},
   "outputs": [
    {
     "name": "stdout",
     "output_type": "stream",
     "text": [
      "所有txt文件中的總token數: 278640\n"
     ]
    }
   ],
   "source": [
    "import os\n",
    "import tiktoken\n",
    "\n",
    "def count_tokens(filename, encoding_name):\n",
    "    with open(filename, 'r', encoding='utf-8') as file:\n",
    "        content = file.read()\n",
    "        encoding = tiktoken.get_encoding(encoding_name)\n",
    "        tokens = encoding.encode(content)\n",
    "        return len(tokens)\n",
    "\n",
    "def count_all_tokens_in_directory(directory, encoding_name):\n",
    "    total_tokens = 0\n",
    "    for filename in os.listdir(directory):\n",
    "        if filename.endswith(\".txt\"):\n",
    "            file_path = os.path.join(directory, filename)\n",
    "            try:\n",
    "                tokens_in_file = count_tokens(file_path, encoding_name)\n",
    "                total_tokens += tokens_in_file\n",
    "                # print(f\"文件 {filename} 中的token數: {tokens_in_file}\")\n",
    "            except Exception as e:\n",
    "                print(f\"處理文件 {filename} 時出錯: {str(e)}\")\n",
    "    return total_tokens\n",
    "\n",
    "# 替換為你的資料夾路徑\n",
    "directory_path = \"input\"\n",
    "\n",
    "# 選擇適當的編碼。例如，對於GPT-3.5和GPT-4，使用\"cl100k_base\"\n",
    "encoding_name = \"cl100k_base\"\n",
    "\n",
    "total = count_all_tokens_in_directory(directory_path, encoding_name)\n",
    "print(f\"所有txt文件中的總token數: {total}\")"
   ]
  },
  {
   "cell_type": "markdown",
   "metadata": {},
   "source": [
    "requirements.txt\n",
    "```\n",
    "pipreqs .\n",
    "```"
   ]
  }
 ],
 "metadata": {
  "kernelspec": {
   "display_name": "ml",
   "language": "python",
   "name": "python3"
  },
  "language_info": {
   "codemirror_mode": {
    "name": "ipython",
    "version": 3
   },
   "file_extension": ".py",
   "mimetype": "text/x-python",
   "name": "python",
   "nbconvert_exporter": "python",
   "pygments_lexer": "ipython3",
   "version": "3.10.14"
  }
 },
 "nbformat": 4,
 "nbformat_minor": 2
}
